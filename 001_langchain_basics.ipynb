{
  "cells": [
    {
      "cell_type": "markdown",
      "id": "ed0f96f1-910f-438f-876f-9eff119c2b0a",
      "metadata": {
        "id": "ed0f96f1-910f-438f-876f-9eff119c2b0a"
      },
      "source": [
        "# Part1: Langchain 기초\n"
      ]
    },
    {
      "cell_type": "markdown",
      "id": "5a5b1e2f-9d67-4d01-9a8c-83ced6b711a9",
      "metadata": {
        "id": "5a5b1e2f-9d67-4d01-9a8c-83ced6b711a9"
      },
      "source": [
        "## 1. 환경 구성"
      ]
    },
    {
      "cell_type": "markdown",
      "id": "b03b7854-f96a-47fc-b3c7-b2bdfb55df81",
      "metadata": {
        "id": "b03b7854-f96a-47fc-b3c7-b2bdfb55df81"
      },
      "source": [
        "### 1) 라이브러리 설치"
      ]
    },
    {
      "cell_type": "code",
      "execution_count": 1,
      "id": "4cd87a33-0a37-461b-8f37-3c142e60b1f6",
      "metadata": {
        "colab": {
          "base_uri": "https://localhost:8080/"
        },
        "id": "4cd87a33-0a37-461b-8f37-3c142e60b1f6",
        "outputId": "c96ed02d-19b7-4e90-d92e-1ae52895e303"
      },
      "outputs": [],
      "source": [
        "!pip install -q langchain langchain-openai tiktoken"
      ]
    },
    {
      "cell_type": "markdown",
      "id": "55152049-e9e5-4952-8e19-409f58cf3ac9",
      "metadata": {
        "id": "55152049-e9e5-4952-8e19-409f58cf3ac9"
      },
      "source": [
        "### 2) OpenAI 인증키 설정\n",
        "https://openai.com/"
      ]
    },
    {
      "cell_type": "code",
      "execution_count": 2,
      "id": "b76f68a8-4745-4377-8057-6090b87377d1",
      "metadata": {
        "id": "b76f68a8-4745-4377-8057-6090b87377d1"
      },
      "outputs": [],
      "source": [
        "import os\n",
        "from dotenv import load_dotenv\n",
        "\n",
        "load_dotenv()\n",
        "\n",
        "os.environ['OPENAI_API_KEY'] = os.getenv('OPENAI_API_KEY')"
      ]
    },
    {
      "cell_type": "markdown",
      "id": "fc01c50a-32cf-49af-891a-f9b17fa0bd6c",
      "metadata": {
        "id": "fc01c50a-32cf-49af-891a-f9b17fa0bd6c"
      },
      "source": [
        "## 2. LLM Chain"
      ]
    },
    {
      "cell_type": "markdown",
      "id": "23729d10-9600-415b-b7d1-f954665224e3",
      "metadata": {
        "id": "23729d10-9600-415b-b7d1-f954665224e3"
      },
      "source": [
        "### 1) Prompt + LLM\n"
      ]
    },
    {
      "cell_type": "code",
      "execution_count": 24,
      "id": "on0y4xF8VoyE",
      "metadata": {
        "id": "on0y4xF8VoyE"
      },
      "outputs": [],
      "source": [
        "from langchain_openai import ChatOpenAI\n",
        "\n",
        "# model\n",
        "llm = ChatOpenAI(model=\"gpt-4o-mini\")\n",
        "\n",
        "# chain 실행\n",
        "result = llm.invoke(\"지구의 자전 주기는?\")"
      ]
    },
    {
      "cell_type": "code",
      "execution_count": null,
      "id": "WzcZy4PruV1n",
      "metadata": {
        "colab": {
          "base_uri": "https://localhost:8080/",
          "height": 54
        },
        "id": "WzcZy4PruV1n",
        "outputId": "18ecc8f9-5748-4b16-cb07-4a0f7a01fb5a"
      },
      "outputs": [
        {
          "data": {
            "text/plain": [
              "'지구의 자전 주기는 약 24시간입니다. 정확히 말하자면, 지구가 한 번 자전하는 데 걸리는 시간은 약 23시간 56분 4초로, 이를 \"항성일\"이라고 합니다. 그러나 지구가 태양 주위를 공전하면서 자전하기 때문에, 태양을 기준으로 한 하루인 \"태양일\"은 약 24시간으로 정의됩니다.'"
            ]
          },
          "execution_count": 11,
          "metadata": {},
          "output_type": "execute_result"
        }
      ],
      "source": [
        "result.content"
      ]
    },
    {
      "cell_type": "code",
      "execution_count": null,
      "id": "SeNi_VXqYD-b",
      "metadata": {
        "id": "SeNi_VXqYD-b"
      },
      "outputs": [],
      "source": [
        "from langchain_core.prompts import ChatPromptTemplate\n",
        "\n",
        "prompt = ChatPromptTemplate.from_template(\"You are an expert in astronomy. Answer the question. <Question>: {input}\")\n",
        "prompt"
      ]
    },
    {
      "cell_type": "code",
      "execution_count": null,
      "id": "01WLucSpYjZt",
      "metadata": {
        "id": "01WLucSpYjZt"
      },
      "outputs": [],
      "source": [
        "from langchain_openai import ChatOpenAI\n",
        "llm = ChatOpenAI(model=\"gpt-4o-mini\")\n",
        "\n",
        "# chain 연결 (LCEL)\n",
        "chain = prompt | llm\n",
        "\n",
        "# chain 호출\n",
        "chain.invoke({\"input\": \"지구의 자전 주기는?\"})"
      ]
    },
    {
      "cell_type": "code",
      "execution_count": null,
      "id": "f42fc0d1-c7a1-48a1-8e26-9718a1443be4",
      "metadata": {
        "colab": {
          "base_uri": "https://localhost:8080/",
          "height": 36
        },
        "id": "f42fc0d1-c7a1-48a1-8e26-9718a1443be4",
        "outputId": "9b391ac6-ebc1-4554-cb1f-48fb2775cbbf"
      },
      "outputs": [
        {
          "data": {
            "text/plain": [
              "\"지구의 자전 주기는 약 24시간입니다. 더 정확히 말하면, 지구가 한 번 자전하는 데 걸리는 시간은 약 23시간 56분 4초로, 이를 '항성일'이라고 합니다. 그러나 우리가 일반적으로 사용하는 24시간은 태양이 하늘에서 같은 위치에 돌아오는 데 걸리는 시간인 '태양일'을 기준으로 합니다. 이 차이는 지구가 공전하면서 태양의 위치가 조금씩 이동하기 때문에 발생합니다.\""
            ]
          },
          "execution_count": 13,
          "metadata": {},
          "output_type": "execute_result"
        }
      ],
      "source": [
        "from langchain_openai import ChatOpenAI\n",
        "from langchain_core.prompts import ChatPromptTemplate\n",
        "from langchain_core.output_parsers import StrOutputParser\n",
        "\n",
        "# prompt + model + output parser\n",
        "prompt = ChatPromptTemplate.from_template(\"You are an expert in astronomy. Answer the question. <Question>: {input}\")\n",
        "# llm = ChatOpenAI(model=\"gpt-4o-mini\")\n",
        "output_parser = StrOutputParser()\n",
        "\n",
        "# LCEL chaining\n",
        "chain = prompt | llm | output_parser\n",
        "\n",
        "# chain 호출\n",
        "chain.invoke({\"input\": \"지구의 자전 주기는?\"})"
      ]
    },
    {
      "cell_type": "markdown",
      "id": "b0188674-915f-41af-ac46-56f9f54289b0",
      "metadata": {
        "id": "b0188674-915f-41af-ac46-56f9f54289b0"
      },
      "source": [
        "### 2) Multiple Chains"
      ]
    },
    {
      "cell_type": "code",
      "execution_count": null,
      "id": "31678c55-38a8-4ca2-b437-9d4495946b0a",
      "metadata": {
        "colab": {
          "base_uri": "https://localhost:8080/",
          "height": 36
        },
        "id": "31678c55-38a8-4ca2-b437-9d4495946b0a",
        "outputId": "7ee83878-5d1a-45e3-f033-100da33f3ee9"
      },
      "outputs": [
        {
          "data": {
            "text/plain": [
              "'The Korean word \"미래\" translates to \"future\" in English.'"
            ]
          },
          "execution_count": 14,
          "metadata": {},
          "output_type": "execute_result"
        }
      ],
      "source": [
        "prompt1 = ChatPromptTemplate.from_template(\"translates {korean_word} to English.\")\n",
        "prompt2 = ChatPromptTemplate.from_template(\n",
        "    \"explain {english_word} using oxford dictionary to me in Korean.\"\n",
        ")\n",
        "\n",
        "# llm = ChatOpenAI(model=\"gpt-4o-mini\")\n",
        "\n",
        "chain1 = prompt1 | llm | StrOutputParser()\n",
        "\n",
        "chain1.invoke({\"korean_word\":\"미래\"})"
      ]
    },
    {
      "cell_type": "code",
      "execution_count": 15,
      "id": "16718b76-f59d-48f7-906f-5d2371417803",
      "metadata": {
        "colab": {
          "base_uri": "https://localhost:8080/",
          "height": 36
        },
        "id": "16718b76-f59d-48f7-906f-5d2371417803",
        "outputId": "6e3371cd-d294-4be7-a868-2eae5ee6e5de"
      },
      "outputs": [
        {
          "data": {
            "text/plain": [
              "'\"미래\"는 영어로 \"future\"로 번역됩니다. 옥스퍼드 사전에 따르면, \"future\"는 \"어떤 일이 일어나거나 어떤 상태가 발생할 가능성이 있는 시간\"을 의미합니다. 즉, 미래는 우리가 아직 경험하지 않았지만 앞으로 일어날 수 있는 사건이나 상황을 나타냅니다. 이 단어는 시간의 개념을 포함하며, 개인의 계획이나 세계의 변화와 관련하여 자주 사용됩니다.'"
            ]
          },
          "execution_count": 15,
          "metadata": {},
          "output_type": "execute_result"
        }
      ],
      "source": [
        "chain2 = (\n",
        "    {\"english_word\": chain1}\n",
        "    | prompt2\n",
        "    | llm\n",
        "    | StrOutputParser()\n",
        ")\n",
        "\n",
        "chain2.invoke({\"korean_word\":\"미래\"})"
      ]
    },
    {
      "cell_type": "markdown",
      "id": "668cb998-71fb-4fd9-a6f1-61aad022fa3e",
      "metadata": {
        "id": "668cb998-71fb-4fd9-a6f1-61aad022fa3e"
      },
      "source": [
        "## 3. Prompt\n",
        "  "
      ]
    },
    {
      "cell_type": "markdown",
      "id": "16573676-6ba7-439a-a989-1e7d13420e95",
      "metadata": {
        "id": "16573676-6ba7-439a-a989-1e7d13420e95"
      },
      "source": [
        "### 1) PromptTemplate"
      ]
    },
    {
      "cell_type": "code",
      "execution_count": 16,
      "id": "096f63a1-6b04-4d1d-aaaf-c5a77c5d3ef2",
      "metadata": {
        "colab": {
          "base_uri": "https://localhost:8080/",
          "height": 36
        },
        "id": "096f63a1-6b04-4d1d-aaaf-c5a77c5d3ef2",
        "outputId": "5b420b69-9385-4433-d5fd-a45eecdc756e"
      },
      "outputs": [
        {
          "data": {
            "text/plain": [
              "'안녕하세요, 제 이름은 홍길동이고, 나이는 30살입니다.'"
            ]
          },
          "execution_count": 16,
          "metadata": {},
          "output_type": "execute_result"
        }
      ],
      "source": [
        "from langchain_core.prompts import PromptTemplate\n",
        "\n",
        "# 'name'과 'age'라는 두 개의 변수를 사용하는 프롬프트 템플릿을 정의\n",
        "template_text = \"안녕하세요, 제 이름은 {name}이고, 나이는 {age}살입니다.\"\n",
        "\n",
        "# PromptTemplate 인스턴스를 생성\n",
        "prompt_template = PromptTemplate.from_template(template_text)\n",
        "\n",
        "# 템플릿에 값을 채워서 프롬프트를 완성\n",
        "filled_prompt = prompt_template.format(name=\"홍길동\", age=30)\n",
        "\n",
        "filled_prompt"
      ]
    },
    {
      "cell_type": "code",
      "execution_count": 17,
      "id": "4a314a0f-11f3-47f0-aed7-d405b837a273",
      "metadata": {
        "colab": {
          "base_uri": "https://localhost:8080/"
        },
        "id": "4a314a0f-11f3-47f0-aed7-d405b837a273",
        "outputId": "268737fc-25ba-4353-a032-457e1eec49d6"
      },
      "outputs": [
        {
          "data": {
            "text/plain": [
              "PromptTemplate(input_variables=['age', 'language', 'name'], template='안녕하세요, 제 이름은 {name}이고, 나이는 {age}살입니다.\\n\\n아버지를 아버지라 부를 수 없습니다.\\n\\n{language}로 번역해주세요.')"
            ]
          },
          "execution_count": 17,
          "metadata": {},
          "output_type": "execute_result"
        }
      ],
      "source": [
        "# 문자열 템플릿 결합 (PromptTemplate + PromptTemplate + 문자열)\n",
        "combined_prompt = (\n",
        "              prompt_template\n",
        "              + PromptTemplate.from_template(\"\\n\\n아버지를 아버지라 부를 수 없습니다.\")\n",
        "              + \"\\n\\n{language}로 번역해주세요.\"\n",
        ")\n",
        "\n",
        "combined_prompt"
      ]
    },
    {
      "cell_type": "code",
      "execution_count": 18,
      "id": "ca859903-85e4-4630-a173-fffabb24a766",
      "metadata": {
        "colab": {
          "base_uri": "https://localhost:8080/",
          "height": 36
        },
        "id": "ca859903-85e4-4630-a173-fffabb24a766",
        "outputId": "bac3eadf-b312-42f1-cbc4-5ea8cffc48c3"
      },
      "outputs": [
        {
          "data": {
            "text/plain": [
              "'안녕하세요, 제 이름은 홍길동이고, 나이는 30살입니다.\\n\\n아버지를 아버지라 부를 수 없습니다.\\n\\n영어로 번역해주세요.'"
            ]
          },
          "execution_count": 18,
          "metadata": {},
          "output_type": "execute_result"
        }
      ],
      "source": [
        "combined_prompt.format(name=\"홍길동\", age=30, language=\"영어\")"
      ]
    },
    {
      "cell_type": "code",
      "execution_count": null,
      "id": "63a96988-196b-4c6f-ac01-6f8c56386af3",
      "metadata": {
        "colab": {
          "base_uri": "https://localhost:8080/",
          "height": 36
        },
        "id": "63a96988-196b-4c6f-ac01-6f8c56386af3",
        "outputId": "3d9dacbb-874a-4879-8a2b-f5eb8f61ce9c"
      },
      "outputs": [
        {
          "data": {
            "application/vnd.google.colaboratory.intrinsic+json": {
              "type": "string"
            },
            "text/plain": [
              "'Hello, my name is Hong Gildong and I am 30 years old.\\n\\nI cannot call my father \"father.\"'"
            ]
          },
          "execution_count": 7,
          "metadata": {},
          "output_type": "execute_result"
        }
      ],
      "source": [
        "from langchain_openai import ChatOpenAI\n",
        "from langchain_core.output_parsers import StrOutputParser\n",
        "\n",
        "# llm = ChatOpenAI(model=\"gpt-4o-mini\")\n",
        "chain = combined_prompt | llm | StrOutputParser()\n",
        "chain.invoke({\"age\":30, \"language\":\"영어\", \"name\":\"홍길동\"})"
      ]
    },
    {
      "cell_type": "markdown",
      "id": "aa617bbb-8ccb-4aab-a7df-6cd8232ac92f",
      "metadata": {
        "id": "aa617bbb-8ccb-4aab-a7df-6cd8232ac92f"
      },
      "source": [
        "### 2) ChatPromptTemplate"
      ]
    },
    {
      "cell_type": "code",
      "execution_count": 19,
      "id": "10dc9e58-0555-49d1-9ea0-faba6bd63f55",
      "metadata": {
        "colab": {
          "base_uri": "https://localhost:8080/"
        },
        "id": "10dc9e58-0555-49d1-9ea0-faba6bd63f55",
        "outputId": "0e9a2612-444f-4ee0-b2dd-254efe61e4ca"
      },
      "outputs": [
        {
          "data": {
            "text/plain": [
              "[SystemMessage(content='이 시스템은 천문학 질문에 답변할 수 있습니다.'),\n",
              " HumanMessage(content='태양계에서 가장 큰 행성은 무엇인가요?')]"
            ]
          },
          "execution_count": 19,
          "metadata": {},
          "output_type": "execute_result"
        }
      ],
      "source": [
        "# 2-튜플 형태의 메시지 목록으로 프롬프트 생성 (type, content)\n",
        "\n",
        "from langchain_core.prompts import ChatPromptTemplate\n",
        "\n",
        "chat_prompt = ChatPromptTemplate.from_messages([\n",
        "    (\"system\", \"이 시스템은 천문학 질문에 답변할 수 있습니다.\"),\n",
        "    (\"user\", \"{user_input}\"),\n",
        "])\n",
        "\n",
        "messages = chat_prompt.format_messages(user_input=\"태양계에서 가장 큰 행성은 무엇인가요?\")\n",
        "messages"
      ]
    },
    {
      "cell_type": "code",
      "execution_count": 20,
      "id": "f1a8fcae-33bd-43d9-a55e-9f37e82f5484",
      "metadata": {
        "colab": {
          "base_uri": "https://localhost:8080/",
          "height": 36
        },
        "id": "f1a8fcae-33bd-43d9-a55e-9f37e82f5484",
        "outputId": "e1740b02-89a5-4e97-8fda-93fb46a238f1"
      },
      "outputs": [
        {
          "data": {
            "text/plain": [
              "'태양계에서 가장 큰 행성은 목성(Jupiter)입니다. 목성은 지구의 약 1,300배에 달하는 크기를 가지고 있으며, 주로 수소와 헬륨으로 구성되어 있습니다. 또한, 목성은 강력한 자기장과 수많은 위성을 가지고 있는 특징이 있습니다.'"
            ]
          },
          "execution_count": 20,
          "metadata": {},
          "output_type": "execute_result"
        }
      ],
      "source": [
        "chain = chat_prompt | llm | StrOutputParser()\n",
        "\n",
        "chain.invoke({\"user_input\": \"태양계에서 가장 큰 행성은 무엇인가요?\"})"
      ]
    },
    {
      "cell_type": "markdown",
      "id": "e332a435-3379-4b08-8800-2c758eea9eca",
      "metadata": {
        "id": "e332a435-3379-4b08-8800-2c758eea9eca"
      },
      "source": [
        "### 3) Message"
      ]
    },
    {
      "cell_type": "code",
      "execution_count": 21,
      "id": "u1bpbNOyINkM",
      "metadata": {
        "colab": {
          "base_uri": "https://localhost:8080/"
        },
        "id": "u1bpbNOyINkM",
        "outputId": "bc9d550a-ff4c-4c8a-a4d0-4cf47b9f9e18"
      },
      "outputs": [
        {
          "data": {
            "text/plain": [
              "[SystemMessage(content='이 시스템은 천문학 질문에 답변할 수 있습니다.'),\n",
              " HumanMessage(content='태양계에서 가장 큰 행성은 무엇인가요?')]"
            ]
          },
          "execution_count": 21,
          "metadata": {},
          "output_type": "execute_result"
        }
      ],
      "source": [
        "# MessagePromptTemplate 활용\n",
        "\n",
        "from langchain_core.prompts import SystemMessagePromptTemplate,  HumanMessagePromptTemplate\n",
        "\n",
        "chat_prompt = ChatPromptTemplate.from_messages(\n",
        "    [\n",
        "        SystemMessagePromptTemplate.from_template(\"이 시스템은 천문학 질문에 답변할 수 있습니다.\"),\n",
        "        HumanMessagePromptTemplate.from_template(\"{user_input}\"),\n",
        "    ]\n",
        ")\n",
        "\n",
        "\n",
        "messages = chat_prompt.format_messages(user_input=\"태양계에서 가장 큰 행성은 무엇인가요?\")\n",
        "messages"
      ]
    },
    {
      "cell_type": "code",
      "execution_count": null,
      "id": "oFv2sFWwLH3L",
      "metadata": {
        "colab": {
          "base_uri": "https://localhost:8080/",
          "height": 36
        },
        "id": "oFv2sFWwLH3L",
        "outputId": "5bb23413-21e6-4f12-9434-d2cbdf23a4e8"
      },
      "outputs": [
        {
          "data": {
            "application/vnd.google.colaboratory.intrinsic+json": {
              "type": "string"
            },
            "text/plain": [
              "'태양계에서 가장 큰 행성은 목성입니다. 목성은 태양 주위를 도는 행성 중에서 가장 크고 질량도 가장 많이 가지고 있습니다.'"
            ]
          },
          "execution_count": 13,
          "metadata": {},
          "output_type": "execute_result"
        }
      ],
      "source": [
        "chain = chat_prompt | llm | StrOutputParser()\n",
        "\n",
        "chain.invoke({\"user_input\": \"태양계에서 가장 큰 행성은 무엇인가요?\"})"
      ]
    },
    {
      "cell_type": "markdown",
      "id": "62f6cbd9-769e-4671-89cc-8fb3da5eca2d",
      "metadata": {
        "id": "62f6cbd9-769e-4671-89cc-8fb3da5eca2d"
      },
      "source": [
        "## 5. Model Parameter\n"
      ]
    },
    {
      "cell_type": "markdown",
      "id": "OrGWildXSaQ7",
      "metadata": {
        "id": "OrGWildXSaQ7"
      },
      "source": [
        "### 1) 모델 클래스 유형"
      ]
    },
    {
      "cell_type": "markdown",
      "id": "2xwl8LRsSkyX",
      "metadata": {
        "id": "2xwl8LRsSkyX"
      },
      "source": [
        "#### LLM"
      ]
    },
    {
      "cell_type": "code",
      "execution_count": 25,
      "id": "MPNGvV1ASv4R",
      "metadata": {
        "colab": {
          "base_uri": "https://localhost:8080/",
          "height": 89
        },
        "id": "MPNGvV1ASv4R",
        "outputId": "f49b9ee7-7ca3-4870-f7a3-7ac1e2fb8eef"
      },
      "outputs": [
        {
          "data": {
            "text/plain": [
              "' (Please recommend three representative tourist attractions in Korea.)\"\\n\\nKorea is full of wonderful tourist attractions. Here are three representative ones:\\n\\n1. **Gyeongbokgung Palace (경복궁)** - Located in Seoul, Gyeongbokgung is the largest and most iconic of the Five Grand Palaces built during the Joseon Dynasty. Visitors can explore the beautiful architecture, gardens, and the National Palace Museum of Korea located on the palace grounds. Don\\'t miss the changing of the guard ceremony at the main gate!\\n\\n2. **Jeju Island (제주도)** - Known for its stunning natural beauty, Jeju Island is a UNESCO World Heritage site with unique volcanic landscapes, beautiful beaches, and the famous Hallasan Mountain. It\\'s a great place for outdoor activities such as hiking, exploring lava tubes, and enjoying local cuisine. \\n\\n3. **Bukchon Hanok Village (북촌한옥마을)** - This traditional village located between Gyeongbokgung Palace and Changdeokgung Palace features hundreds of well-preserved hanoks (traditional Korean houses). Visitors can stroll through the narrow alleyways, experience traditional Korean culture, and enjoy fantastic views of Seoul from the hilltops.\\n\\nThese attractions showcase Korea\\'s rich history, culture, and natural beauty, making'"
            ]
          },
          "execution_count": 25,
          "metadata": {},
          "output_type": "execute_result"
        }
      ],
      "source": [
        "from langchain_openai import OpenAI\n",
        "\n",
        "llm = OpenAI(model='gpt-4o-mini')\n",
        "\n",
        "llm.invoke(\"한국의 대표적인 관광지 3군데를 추천해주세요.\")"
      ]
    },
    {
      "cell_type": "markdown",
      "id": "n4p-sPIXSp6u",
      "metadata": {
        "id": "n4p-sPIXSp6u"
      },
      "source": [
        "#### ChatModel"
      ]
    },
    {
      "cell_type": "code",
      "execution_count": 26,
      "id": "RoS6GNWQSwmF",
      "metadata": {
        "colab": {
          "base_uri": "https://localhost:8080/"
        },
        "id": "RoS6GNWQSwmF",
        "outputId": "46f9a6f7-da76-4556-dbf4-a5b283592781"
      },
      "outputs": [
        {
          "data": {
            "text/plain": [
              "AIMessage(content='안녕하세요! 한국의 대표적인 관광지 3곳을 추천해드릴게요.\\n\\n1. **경복궁 (Gyeongbokgung Palace)**:\\n   서울에 위치한 경복궁은 조선 왕조의 주요 궁궐로, 아름다운 전통 건축과 정원이 인상적입니다. 궁궐 내부에는 국립민속박물관과 국립고궁박물관도 있어 한국의 역사와 문화를 깊이 있게 이해할 수 있습니다. 특히, 매일 열리는 수문장 교대식은 많은 관광객들에게 인기가 있습니다.\\n\\n2. **제주도 (Jeju Island)**:\\n   제주도는 자연 경관이 아름답고 다양한 액티비티를 즐길 수 있는 인기 있는 여행지입니다. 한라산, 성산 일출봉, 만장굴 등 자연 명소가 많으며, 제주 고유의 문화와 음식도 매력적입니다. 또한, 해변에서의 여유로운 시간이나 다양한 수상 스포츠를 즐길 수 있습니다.\\n\\n3. **부산 (Busan)**:\\n   부산은 한국의 두 번째 도시로, 아름다운 해변과 풍부한 해산물로 유명합니다. 해운대와 광안리 해수욕장은 여름철 많은 관광객이 찾는 인기 명소이며, 자갈치 시장에서 신선한 해산물을 맛볼 수 있습니다. 또한, 부산 타워와 감천문화마을 등 다양한 관광명소가 있어 즐길 거리가 많습니다.\\n\\n이 세 곳은 각각의 매력이 있어 한국의 다양한 문화를 경험할 수 있는 좋은 장소입니다. 즐거운 여행 되세요!', response_metadata={'token_usage': {'completion_tokens': 352, 'prompt_tokens': 35, 'total_tokens': 387, 'completion_tokens_details': {'accepted_prediction_tokens': 0, 'audio_tokens': 0, 'reasoning_tokens': 0, 'rejected_prediction_tokens': 0}, 'prompt_tokens_details': {'audio_tokens': 0, 'cached_tokens': 0}}, 'model_name': 'gpt-4o-mini', 'system_fingerprint': 'fp_560af6e559', 'finish_reason': 'stop', 'logprobs': None}, id='run-0d301fa0-90e4-4f07-926d-7b2e3340dd9a-0')"
            ]
          },
          "execution_count": 26,
          "metadata": {},
          "output_type": "execute_result"
        }
      ],
      "source": [
        "from langchain_core.prompts import ChatPromptTemplate\n",
        "from langchain_openai import ChatOpenAI\n",
        "\n",
        "chat = ChatOpenAI(model='gpt-4o-mini')\n",
        "\n",
        "chat_prompt = ChatPromptTemplate.from_messages([\n",
        "    (\"system\", \"이 시스템은 여행 전문가입니다.\"),\n",
        "    (\"user\", \"{user_input}\"),\n",
        "])\n",
        "\n",
        "chain = chat_prompt | chat\n",
        "chain.invoke({\"user_input\": \"안녕하세요? 한국의 대표적인 관광지 3군데를 추천해주세요.\"})"
      ]
    },
    {
      "cell_type": "markdown",
      "id": "9f4f0d21-c236-41dc-906f-e2d58c02b1ea",
      "metadata": {
        "id": "9f4f0d21-c236-41dc-906f-e2d58c02b1ea"
      },
      "source": [
        "### 2) 모델 파라미터 설정\n"
      ]
    },
    {
      "cell_type": "markdown",
      "id": "mkaCYK13oc4-",
      "metadata": {
        "id": "mkaCYK13oc4-"
      },
      "source": [
        "#### 모델에 직접 파라미터를 전달 (모델 생성 시점)"
      ]
    },
    {
      "cell_type": "code",
      "execution_count": 27,
      "id": "5f8cfed5-aa87-4c2a-b2fa-f2800fc8c140",
      "metadata": {
        "colab": {
          "base_uri": "https://localhost:8080/"
        },
        "id": "5f8cfed5-aa87-4c2a-b2fa-f2800fc8c140",
        "outputId": "fb22a71a-fe81-4c05-f3d5-a0090ea6431a"
      },
      "outputs": [
        {
          "name": "stdout",
          "output_type": "stream",
          "text": [
            "content='태양계에서 가장 큰 행성은 목성입니다. 목성은 지름이 약 139,820km로, 태양계 내 다른 행성들보다 훨씬 큽니다.' response_metadata={'token_usage': {'completion_tokens': 43, 'prompt_tokens': 20, 'total_tokens': 63, 'completion_tokens_details': {'accepted_prediction_tokens': 0, 'audio_tokens': 0, 'reasoning_tokens': 0, 'rejected_prediction_tokens': 0}, 'prompt_tokens_details': {'audio_tokens': 0, 'cached_tokens': 0}}, 'model_name': 'gpt-4.1-mini', 'system_fingerprint': 'fp_3f58d112f7', 'finish_reason': 'stop', 'logprobs': None} id='run-249eb887-c5b9-4db6-81df-c593600f622a-0'\n"
          ]
        }
      ],
      "source": [
        "from langchain_openai import ChatOpenAI\n",
        "\n",
        "# 모델 파라미터 설정\n",
        "params = {\n",
        "    \"temperature\": 0.7,         # 생성된 텍스트의 다양성 조정\n",
        "    \"max_tokens\": 100,          # 생성할 최대 토큰 수\n",
        "}\n",
        "\n",
        "kwargs = {\n",
        "    \"frequency_penalty\": 0.5,   # 이미 등장한 단어의 재등장 확률\n",
        "    \"presence_penalty\": 0.5,    # 새로운 단어의 도입을 장려\n",
        "    \"stop\": [\"\\n\"]              # 정지 시퀀스 설정\n",
        "\n",
        "}\n",
        "\n",
        "# 모델 인스턴스를 생성할 때 설정\n",
        "model = ChatOpenAI(model=\"gpt-4.1-mini\", **params, model_kwargs = kwargs)\n",
        "\n",
        "\n",
        "# 모델 호출\n",
        "question = \"태양계에서 가장 큰 행성은 무엇인가요?\"\n",
        "response = model.invoke(input=question)\n",
        "\n",
        "# 전체 응답 출력\n",
        "print(response)"
      ]
    },
    {
      "cell_type": "markdown",
      "id": "yAxlgzozpGMt",
      "metadata": {
        "id": "yAxlgzozpGMt"
      },
      "source": [
        "#### 모델에 직접 파라미터를 전달 (모델 호출 시점)"
      ]
    },
    {
      "cell_type": "code",
      "execution_count": 28,
      "id": "e9nGM_MroWwS",
      "metadata": {
        "colab": {
          "base_uri": "https://localhost:8080/"
        },
        "id": "e9nGM_MroWwS",
        "outputId": "068c4d4d-8e76-4fee-cb02-1fa0c6fcbce0"
      },
      "outputs": [
        {
          "name": "stdout",
          "output_type": "stream",
          "text": [
            "태양계에서 가장 큰 행성은 목\n"
          ]
        }
      ],
      "source": [
        "# 모델 파라미터 설정\n",
        "params = {\n",
        "    \"temperature\": 0.7,         # 생성된 텍스트의 다양성 조정\n",
        "    \"max_tokens\": 10,          # 생성할 최대 토큰 수\n",
        "}\n",
        "\n",
        "# 모델 인스턴스를 호출할 때 전달\n",
        "response = model.invoke(input=question, **params)\n",
        "\n",
        "# 문자열 출력\n",
        "print(response.content)"
      ]
    },
    {
      "cell_type": "markdown",
      "id": "bd39280c-2de0-49bf-8ee9-51362d50b6cb",
      "metadata": {
        "id": "bd39280c-2de0-49bf-8ee9-51362d50b6cb"
      },
      "source": [
        "#### 모델에 추가적인 파라미터를 전달\n",
        "- bind 메서드를 사용"
      ]
    },
    {
      "cell_type": "code",
      "execution_count": null,
      "id": "ec858125-f9ec-447c-ad84-c69f81399e91",
      "metadata": {
        "colab": {
          "base_uri": "https://localhost:8080/"
        },
        "id": "ec858125-f9ec-447c-ad84-c69f81399e91",
        "outputId": "9c2be864-c288-47ca-ad2c-f28d831ba63c"
      },
      "outputs": [
        {
          "name": "stdout",
          "output_type": "stream",
          "text": [
            "content='가장 큰 행성은 목성입니다. 목성은 태양계에서 가장 크고 질량이 가장 큰 행성으로, 지름은 약 14만 2000km에 달합니다.'\n",
            "content='태양계에서 가장 큰'\n"
          ]
        }
      ],
      "source": [
        "from langchain_core.prompts import ChatPromptTemplate\n",
        "\n",
        "prompt = ChatPromptTemplate.from_messages([\n",
        "    (\"system\", \"이 시스템은 천문학 질문에 답변할 수 있습니다.\"),\n",
        "    (\"user\", \"{user_input}\"),\n",
        "])\n",
        "\n",
        "model = ChatOpenAI(model=\"gpt-4o-mini\", max_tokens=100)\n",
        "\n",
        "messages = prompt.format_messages(user_input=\"태양계에서 가장 큰 행성은 무엇인가요?\")\n",
        "\n",
        "before_answer = model.invoke(messages)\n",
        "\n",
        "# # binding 이전 출력\n",
        "print(before_answer)\n",
        "\n",
        "# 모델 호출 시 추가적인 인수를 전달하기 위해 bind 메서드 사용 (응답의 최대 길이를 10 토큰으로 제한)\n",
        "chain = prompt | model.bind(max_tokens=10)\n",
        "\n",
        "after_answer = chain.invoke({\"user_input\": \"태양계에서 가장 큰 행성은 무엇인가요?\"})\n",
        "\n",
        "# binding 이후 출력\n",
        "print(after_answer)"
      ]
    },
    {
      "cell_type": "markdown",
      "id": "f5578014-f828-45e7-bd15-dde39ea72413",
      "metadata": {
        "id": "f5578014-f828-45e7-bd15-dde39ea72413"
      },
      "source": [
        "## 6. Output Parsers\n"
      ]
    },
    {
      "cell_type": "markdown",
      "id": "8aff3bd5-1dc0-4b60-ae36-78336bfa927d",
      "metadata": {
        "id": "8aff3bd5-1dc0-4b60-ae36-78336bfa927d"
      },
      "source": [
        "### 1) CSV Parser"
      ]
    },
    {
      "cell_type": "code",
      "execution_count": 33,
      "id": "e5670c36-abbe-4f33-a736-87fbb2d8e72a",
      "metadata": {
        "colab": {
          "base_uri": "https://localhost:8080/"
        },
        "id": "e5670c36-abbe-4f33-a736-87fbb2d8e72a",
        "outputId": "cf0cc555-fbd4-4a89-cb82-ab05421aa30b"
      },
      "outputs": [
        {
          "name": "stdout",
          "output_type": "stream",
          "text": [
            "Your response should be a list of comma separated values, eg: `foo, bar, baz` or `foo,bar,baz`\n"
          ]
        }
      ],
      "source": [
        "from langchain_core.output_parsers import CommaSeparatedListOutputParser, StrOutputParser\n",
        "\n",
        "output_parser = CommaSeparatedListOutputParser()\n",
        "format_instructions = output_parser.get_format_instructions()\n",
        "\n",
        "print(format_instructions)"
      ]
    },
    {
      "cell_type": "code",
      "execution_count": 34,
      "id": "762747bc-6a62-4d93-b052-15fb7443cf41",
      "metadata": {
        "colab": {
          "base_uri": "https://localhost:8080/"
        },
        "id": "762747bc-6a62-4d93-b052-15fb7443cf41",
        "outputId": "9a107386-f676-43a7-d9d5-fe598d7c260f"
      },
      "outputs": [
        {
          "data": {
            "text/plain": [
              "['Kimchi', 'Bibimbap', 'Bulgogi', 'Tteokbokki', 'Japchae']"
            ]
          },
          "execution_count": 34,
          "metadata": {},
          "output_type": "execute_result"
        }
      ],
      "source": [
        "from langchain_core.prompts import PromptTemplate\n",
        "\n",
        "prompt = PromptTemplate(\n",
        "    template=\"List five {subject}.\\n{format_instructions}\",\n",
        "    input_variables=[\"subject\"],\n",
        "    partial_variables={\"format_instructions\": format_instructions},\n",
        ")\n",
        "\n",
        "llm = ChatOpenAI(model=\"gpt-4o-mini\", temperature=0)\n",
        "\n",
        "chain = prompt | llm | output_parser\n",
        "\n",
        "chain.invoke({\"subject\": \"popular Korean cusine\"})"
      ]
    },
    {
      "cell_type": "markdown",
      "id": "b861abc3-570c-43f4-8a65-84dbc755b3f2",
      "metadata": {
        "id": "b861abc3-570c-43f4-8a65-84dbc755b3f2"
      },
      "source": [
        "### 2) JSON Parser"
      ]
    },
    {
      "cell_type": "code",
      "execution_count": null,
      "id": "f633514f-f8e3-4c16-8fce-2c65fc28a5aa",
      "metadata": {
        "id": "f633514f-f8e3-4c16-8fce-2c65fc28a5aa"
      },
      "outputs": [],
      "source": [
        "from langchain_core.output_parsers import JsonOutputParser\n",
        "from langchain_core.pydantic_v1 import BaseModel, Field\n",
        "\n",
        "# 자료구조 정의 (pydantic)\n",
        "class CusineRecipe(BaseModel):\n",
        "    name: str = Field(description=\"name of a cusine\")\n",
        "    recipe: str = Field(description=\"recipe to cook the cusine\")"
      ]
    },
    {
      "cell_type": "code",
      "execution_count": null,
      "id": "ce40ce61-056b-4511-8c19-bfff7db60342",
      "metadata": {
        "colab": {
          "base_uri": "https://localhost:8080/"
        },
        "id": "ce40ce61-056b-4511-8c19-bfff7db60342",
        "outputId": "12cc60f1-22c3-473a-db4a-533da6968ccd"
      },
      "outputs": [
        {
          "name": "stdout",
          "output_type": "stream",
          "text": [
            "The output should be formatted as a JSON instance that conforms to the JSON schema below.\n",
            "\n",
            "As an example, for the schema {\"properties\": {\"foo\": {\"title\": \"Foo\", \"description\": \"a list of strings\", \"type\": \"array\", \"items\": {\"type\": \"string\"}}}, \"required\": [\"foo\"]}\n",
            "the object {\"foo\": [\"bar\", \"baz\"]} is a well-formatted instance of the schema. The object {\"properties\": {\"foo\": [\"bar\", \"baz\"]}} is not well-formatted.\n",
            "\n",
            "Here is the output schema:\n",
            "```\n",
            "{\"properties\": {\"name\": {\"title\": \"Name\", \"description\": \"name of a cusine\", \"type\": \"string\"}, \"recipe\": {\"title\": \"Recipe\", \"description\": \"recipe to cook the cusine\", \"type\": \"string\"}}, \"required\": [\"name\", \"recipe\"]}\n",
            "```\n"
          ]
        }
      ],
      "source": [
        "# 출력 파서 정의\n",
        "output_parser = JsonOutputParser(pydantic_object=CusineRecipe)\n",
        "\n",
        "format_instructions = output_parser.get_format_instructions()\n",
        "\n",
        "print(format_instructions)"
      ]
    },
    {
      "cell_type": "code",
      "execution_count": null,
      "id": "1b14fb66-640e-4ff9-9826-bf4718dcd7a2",
      "metadata": {
        "colab": {
          "base_uri": "https://localhost:8080/"
        },
        "id": "1b14fb66-640e-4ff9-9826-bf4718dcd7a2",
        "outputId": "35d0738f-c720-4369-8b1b-67d802d56363"
      },
      "outputs": [
        {
          "name": "stdout",
          "output_type": "stream",
          "text": [
            "input_variables=['query'] partial_variables={'format_instructions': 'The output should be formatted as a JSON instance that conforms to the JSON schema below.\\n\\nAs an example, for the schema {\"properties\": {\"foo\": {\"title\": \"Foo\", \"description\": \"a list of strings\", \"type\": \"array\", \"items\": {\"type\": \"string\"}}}, \"required\": [\"foo\"]}\\nthe object {\"foo\": [\"bar\", \"baz\"]} is a well-formatted instance of the schema. The object {\"properties\": {\"foo\": [\"bar\", \"baz\"]}} is not well-formatted.\\n\\nHere is the output schema:\\n```\\n{\"properties\": {\"name\": {\"title\": \"Name\", \"description\": \"name of a cusine\", \"type\": \"string\"}, \"recipe\": {\"title\": \"Recipe\", \"description\": \"recipe to cook the cusine\", \"type\": \"string\"}}, \"required\": [\"name\", \"recipe\"]}\\n```'} template='Answer the user query.\\n{format_instructions}\\n{query}\\n'\n"
          ]
        }
      ],
      "source": [
        "# prompt 구성\n",
        "prompt = PromptTemplate(\n",
        "    template=\"Answer the user query.\\n{format_instructions}\\n{query}\\n\",\n",
        "    input_variables=[\"query\"],\n",
        "    partial_variables={\"format_instructions\": format_instructions},\n",
        ")\n",
        "\n",
        "print(prompt)"
      ]
    },
    {
      "cell_type": "code",
      "execution_count": null,
      "id": "1f42224e-a931-4fb1-868f-d4ed98489744",
      "metadata": {
        "colab": {
          "base_uri": "https://localhost:8080/"
        },
        "id": "1f42224e-a931-4fb1-868f-d4ed98489744",
        "outputId": "73f0f06c-ee25-4bde-cc91-a48cacf7bcc4"
      },
      "outputs": [
        {
          "data": {
            "text/plain": [
              "{'name': 'Bibimbap',\n",
              " 'recipe': 'Bibimbap is a Korean mixed rice dish. To cook Bibimbap, you will need the following ingredients: cooked rice, vegetables (such as spinach, bean sprouts, carrots, zucchini, mushrooms), beef or tofu, eggs, sesame oil, soy sauce, sugar, garlic, and Korean red pepper paste (gochujang). To prepare Bibimbap, sauté the vegetables separately,'}"
            ]
          },
          "execution_count": 19,
          "metadata": {},
          "output_type": "execute_result"
        }
      ],
      "source": [
        "chain = prompt | model | output_parser\n",
        "\n",
        "chain.invoke({\"query\": \"Let me know how to cook Bibimbap\"})"
      ]
    }
  ],
  "metadata": {
    "colab": {
      "provenance": [],
      "toc_visible": true
    },
    "kernelspec": {
      "display_name": "langchain_env",
      "language": "python",
      "name": "python3"
    },
    "language_info": {
      "codemirror_mode": {
        "name": "ipython",
        "version": 3
      },
      "file_extension": ".py",
      "mimetype": "text/x-python",
      "name": "python",
      "nbconvert_exporter": "python",
      "pygments_lexer": "ipython3",
      "version": "3.11.13"
    }
  },
  "nbformat": 4,
  "nbformat_minor": 5
}
